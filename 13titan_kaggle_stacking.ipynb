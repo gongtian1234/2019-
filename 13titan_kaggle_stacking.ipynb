{
 "cells": [
  {
   "cell_type": "markdown",
   "metadata": {},
   "source": [
    "###### 本案例源于kaggle，数据是titan数据，主要目的是为了学习stacking\n",
    "kaggle网址为：https://www.kaggle.com/arthurtok/introduction-to-ensembling-stacking-in-python  \n",
    "竞赛地址为：https://www.kaggle.com/c/titanic/data  \n",
    "###### 后面用到的变量的解释说明\n",
    "\n",
    "Variable\t| Definition\t| Key\n",
    "----| ---- | ----\n",
    "survival\t| Survival\t| 0 = No, 1 = Yes\n",
    "pclass\t| Ticket class\t| 1 = 1st, 2 = 2nd, 3 = 3rd\n",
    "sex\t| Sex\t\n",
    "Age\t| Age in years\t\n",
    "sibsp\t| # of siblings / spouses aboard the Titanic\t\n",
    "parch\t| # of parents / children aboard the Titanic\t\n",
    "ticket\t| Ticket number\t\n",
    "fare\t| Passenger fare\t\n",
    "cabin\t| Cabin number\t\n",
    "embarked\t| Port of Embarkation\t| C = Cherbourg, Q = Queenstown, S = Southampton"
   ]
  },
  {
   "cell_type": "code",
   "execution_count": 1,
   "metadata": {},
   "outputs": [],
   "source": [
    "import pandas as  pd\n",
    "import numpy as np\n",
    "import re\n",
    "import sklearn\n",
    "import xgboost as xgb\n",
    "import seaborn as sns\n",
    "import matplotlib.pyplot as plt\n",
    "%matplotlib inline    \n",
    "# 魔法函数\n",
    "\n",
    "# import plotly.offline as py    # 交互图库\n",
    "# py.init_notebook_mode(connected=True)\n",
    "# import plotly.graph_objs as go\n",
    "# import plotly.tools as tl\n",
    "\n",
    "import warnings\n",
    "warnings.filterwarnings('ignore')\n",
    "\n",
    "# 用以下5个基本模型进行stacking\n",
    "from sklearn.ensemble import (RandomForestClassifier, AdaBoostClassifier, GradientBoostingClassifier, ExtraTreesClassifier)\n",
    "# ExtraTreesClassifier与随机森林相似，ET的每颗决策树会使用全部的数据集，并且划分点也是完全随机的，\n",
    "# 而RF是先采样，再根据信息增益来选择最优特征来进行划分\n",
    "from sklearn.svm import SVC\n",
    "from sklearn.model_selection import KFold, train_test_split\n",
    "from sklearn.metrics import accuracy_score\n",
    "from mlxtend.classifier import StackingClassifier"
   ]
  },
  {
   "cell_type": "markdown",
   "metadata": {},
   "source": [
    "###### Feature Exploration, Engineering and Cleaning"
   ]
  },
  {
   "cell_type": "code",
   "execution_count": 2,
   "metadata": {},
   "outputs": [
    {
     "data": {
      "text/html": [
       "<div>\n",
       "<style scoped>\n",
       "    .dataframe tbody tr th:only-of-type {\n",
       "        vertical-align: middle;\n",
       "    }\n",
       "\n",
       "    .dataframe tbody tr th {\n",
       "        vertical-align: top;\n",
       "    }\n",
       "\n",
       "    .dataframe thead th {\n",
       "        text-align: right;\n",
       "    }\n",
       "</style>\n",
       "<table border=\"1\" class=\"dataframe\">\n",
       "  <thead>\n",
       "    <tr style=\"text-align: right;\">\n",
       "      <th></th>\n",
       "      <th>PassengerId</th>\n",
       "      <th>Survived</th>\n",
       "      <th>Pclass</th>\n",
       "      <th>Name</th>\n",
       "      <th>Sex</th>\n",
       "      <th>Age</th>\n",
       "      <th>SibSp</th>\n",
       "      <th>Parch</th>\n",
       "      <th>Ticket</th>\n",
       "      <th>Fare</th>\n",
       "      <th>Cabin</th>\n",
       "      <th>Embarked</th>\n",
       "    </tr>\n",
       "  </thead>\n",
       "  <tbody>\n",
       "    <tr>\n",
       "      <td>0</td>\n",
       "      <td>1</td>\n",
       "      <td>0</td>\n",
       "      <td>3</td>\n",
       "      <td>Braund, Mr. Owen Harris</td>\n",
       "      <td>male</td>\n",
       "      <td>22.0</td>\n",
       "      <td>1</td>\n",
       "      <td>0</td>\n",
       "      <td>A/5 21171</td>\n",
       "      <td>7.2500</td>\n",
       "      <td>NaN</td>\n",
       "      <td>S</td>\n",
       "    </tr>\n",
       "    <tr>\n",
       "      <td>1</td>\n",
       "      <td>2</td>\n",
       "      <td>1</td>\n",
       "      <td>1</td>\n",
       "      <td>Cumings, Mrs. John Bradley (Florence Briggs Th...</td>\n",
       "      <td>female</td>\n",
       "      <td>38.0</td>\n",
       "      <td>1</td>\n",
       "      <td>0</td>\n",
       "      <td>PC 17599</td>\n",
       "      <td>71.2833</td>\n",
       "      <td>C85</td>\n",
       "      <td>C</td>\n",
       "    </tr>\n",
       "    <tr>\n",
       "      <td>2</td>\n",
       "      <td>3</td>\n",
       "      <td>1</td>\n",
       "      <td>3</td>\n",
       "      <td>Heikkinen, Miss. Laina</td>\n",
       "      <td>female</td>\n",
       "      <td>26.0</td>\n",
       "      <td>0</td>\n",
       "      <td>0</td>\n",
       "      <td>STON/O2. 3101282</td>\n",
       "      <td>7.9250</td>\n",
       "      <td>NaN</td>\n",
       "      <td>S</td>\n",
       "    </tr>\n",
       "  </tbody>\n",
       "</table>\n",
       "</div>"
      ],
      "text/plain": [
       "   PassengerId  Survived  Pclass  \\\n",
       "0            1         0       3   \n",
       "1            2         1       1   \n",
       "2            3         1       3   \n",
       "\n",
       "                                                Name     Sex   Age  SibSp  \\\n",
       "0                            Braund, Mr. Owen Harris    male  22.0      1   \n",
       "1  Cumings, Mrs. John Bradley (Florence Briggs Th...  female  38.0      1   \n",
       "2                             Heikkinen, Miss. Laina  female  26.0      0   \n",
       "\n",
       "   Parch            Ticket     Fare Cabin Embarked  \n",
       "0      0         A/5 21171   7.2500   NaN        S  \n",
       "1      0          PC 17599  71.2833   C85        C  \n",
       "2      0  STON/O2. 3101282   7.9250   NaN        S  "
      ]
     },
     "execution_count": 2,
     "metadata": {},
     "output_type": "execute_result"
    }
   ],
   "source": [
    "train = pd.read_csv('train.csv')\n",
    "test = pd.read_csv('test.csv')\n",
    "# 存储乘客ID\n",
    "PassengerId = test['PassengerId']\n",
    "train.head(3)"
   ]
  },
  {
   "cell_type": "code",
   "execution_count": 3,
   "metadata": {
    "scrolled": true
   },
   "outputs": [
    {
     "name": "stdout",
     "output_type": "stream",
     "text": [
      "变量类型：\n",
      " PassengerId      int64\n",
      "Survived         int64\n",
      "Pclass           int64\n",
      "Name            object\n",
      "Sex             object\n",
      "Age            float64\n",
      "SibSp            int64\n",
      "Parch            int64\n",
      "Ticket          object\n",
      "Fare           float64\n",
      "Cabin           object\n",
      "Embarked        object\n",
      "dtype: object\n",
      "\n",
      "训练集的缺失值情况：\n",
      " PassengerId      0\n",
      "Survived         0\n",
      "Pclass           0\n",
      "Name             0\n",
      "Sex              0\n",
      "Age            177\n",
      "SibSp            0\n",
      "Parch            0\n",
      "Ticket           0\n",
      "Fare             0\n",
      "Cabin          687\n",
      "Embarked         2\n",
      "dtype: int64\n",
      "\n",
      "测试集的缺失值情况：\n",
      " PassengerId      0\n",
      "Pclass           0\n",
      "Name             0\n",
      "Sex              0\n",
      "Age             86\n",
      "SibSp            0\n",
      "Parch            0\n",
      "Ticket           0\n",
      "Fare             1\n",
      "Cabin          327\n",
      "Embarked         0\n",
      "dtype: int64\n",
      "train的describe: \n",
      "        PassengerId    Survived      Pclass         Age       SibSp  \\\n",
      "count   891.000000  891.000000  891.000000  714.000000  891.000000   \n",
      "mean    446.000000    0.383838    2.308642   29.699118    0.523008   \n",
      "std     257.353842    0.486592    0.836071   14.526497    1.102743   \n",
      "min       1.000000    0.000000    1.000000    0.420000    0.000000   \n",
      "25%     223.500000    0.000000    2.000000   20.125000    0.000000   \n",
      "50%     446.000000    0.000000    3.000000   28.000000    0.000000   \n",
      "75%     668.500000    1.000000    3.000000   38.000000    1.000000   \n",
      "max     891.000000    1.000000    3.000000   80.000000    8.000000   \n",
      "\n",
      "            Parch        Fare  \n",
      "count  891.000000  891.000000  \n",
      "mean     0.381594   32.204208  \n",
      "std      0.806057   49.693429  \n",
      "min      0.000000    0.000000  \n",
      "25%      0.000000    7.910400  \n",
      "50%      0.000000   14.454200  \n",
      "75%      0.000000   31.000000  \n",
      "max      6.000000  512.329200  \n"
     ]
    }
   ],
   "source": [
    "print('变量类型：\\n', train.dtypes)\n",
    "print()\n",
    "print('训练集的缺失值情况：\\n',train.isnull().sum())\n",
    "print()\n",
    "print('测试集的缺失值情况：\\n',test.isnull().sum())\n",
    "print('train的describe: \\n',train.describe())"
   ]
  },
  {
   "cell_type": "markdown",
   "metadata": {},
   "source": [
    "可以看出，age\\cabin\\embarked\\fare存在着不同程度的缺失值，接下来通过查看其各自的分布来处理缺失值。  \n",
    "age和fare是float64类型，考虑做直方图或密度图查看其分布；cabin和embarked是object类型，考虑做堆叠图来查看其对survived的影响。"
   ]
  },
  {
   "cell_type": "markdown",
   "metadata": {},
   "source": [
    "###### 1.1 查看缺失数据分布以考虑用什么进行填充缺失值"
   ]
  },
  {
   "cell_type": "code",
   "execution_count": 4,
   "metadata": {},
   "outputs": [
    {
     "data": {
      "image/png": "[encoded data removed]",
      "text/plain": [
       "<Figure size 864x360 with 2 Axes>"
      ]
     },
     "metadata": {
      "needs_background": "light"
     },
     "output_type": "display_data"
    },
    {
     "data": {
      "image/png": "[encoded data removed]",
      "text/plain": [
       "<Figure size 432x288 with 1 Axes>"
      ]
     },
     "metadata": {
      "needs_background": "light"
     },
     "output_type": "display_data"
    },
    {
     "name": "stdout",
     "output_type": "stream",
     "text": [
      "Cabin的缺失值有687个，占比为77.10437710437711%\n",
      "Cabin不同类型的种类有: 147\n"
     ]
    }
   ],
   "source": [
    "train_1 = train.copy()\n",
    "test_1 = test.copy()\n",
    "# 1、先查看age的直方图\n",
    "plt.figure(figsize=(12,5))\n",
    "plt.subplot(1,2,1)\n",
    "ax = train_1['Age'].hist(bins=15, color='teal', alpha=0.6)\n",
    "ax.set(xlabel='Age of train')\n",
    "plt.xlim([-5,85])\n",
    "## Age的中位数为28，均值为29.7，再结合直方图，考虑用均值进行缺失值填充 ##\n",
    "\n",
    "# 2、查看fare的分布\n",
    "plt.subplot(1,2,2)\n",
    "ax = train_1['Fare'].hist(bins=15, color='orange', alpha=0.7)\n",
    "ax.set(xlabel='Fare of train')\n",
    "plt.show()\n",
    "## Fare的均值为32.20，中位数为14.45，再结合直方图，考虑用中位数进行缺失值填充 ##\n",
    "\n",
    "# 3、对Embarked绘制条形图或堆叠图\n",
    "sns.countplot(x='Embarked', data=train_1)\n",
    "plt.show()\n",
    "## 可以看出S( S = Southampton)登船的最多，所以缺失值用S进行填充 ##\n",
    "\n",
    "# 4、对Cabin进行分析\n",
    "print('Cabin的缺失值有{}个，占比为{}%'.format(train_1['Cabin'].isnull().sum(), train_1['Cabin'].isnull().sum()/train_1.shape[0]*100))\n",
    "print('Cabin不同类型的种类有:', len(train_1['Cabin'].value_counts()))    \n",
    "## 缺失值较多，且不同类型较多，无法进行填充，所以决定将其舍弃 ##"
   ]
  },
  {
   "cell_type": "markdown",
   "metadata": {},
   "source": [
    "###### 1.2 缺失值处理"
   ]
  },
  {
   "cell_type": "code",
   "execution_count": 5,
   "metadata": {},
   "outputs": [
    {
     "name": "stdout",
     "output_type": "stream",
     "text": [
      "S    646\n",
      "C    168\n",
      "Q     77\n",
      "Name: Embarked, dtype: int64\n"
     ]
    },
    {
     "data": {
      "text/html": [
       "<div>\n",
       "<style scoped>\n",
       "    .dataframe tbody tr th:only-of-type {\n",
       "        vertical-align: middle;\n",
       "    }\n",
       "\n",
       "    .dataframe tbody tr th {\n",
       "        vertical-align: top;\n",
       "    }\n",
       "\n",
       "    .dataframe thead th {\n",
       "        text-align: right;\n",
       "    }\n",
       "</style>\n",
       "<table border=\"1\" class=\"dataframe\">\n",
       "  <thead>\n",
       "    <tr style=\"text-align: right;\">\n",
       "      <th></th>\n",
       "      <th>PassengerId</th>\n",
       "      <th>Survived</th>\n",
       "      <th>Pclass</th>\n",
       "      <th>Name</th>\n",
       "      <th>Sex</th>\n",
       "      <th>Age</th>\n",
       "      <th>SibSp</th>\n",
       "      <th>Parch</th>\n",
       "      <th>Ticket</th>\n",
       "      <th>Fare</th>\n",
       "      <th>Embarked</th>\n",
       "    </tr>\n",
       "  </thead>\n",
       "  <tbody>\n",
       "    <tr>\n",
       "      <td>0</td>\n",
       "      <td>1</td>\n",
       "      <td>0</td>\n",
       "      <td>3</td>\n",
       "      <td>Braund, Mr. Owen Harris</td>\n",
       "      <td>male</td>\n",
       "      <td>22.0</td>\n",
       "      <td>1</td>\n",
       "      <td>0</td>\n",
       "      <td>A/5 21171</td>\n",
       "      <td>7.2500</td>\n",
       "      <td>S</td>\n",
       "    </tr>\n",
       "    <tr>\n",
       "      <td>1</td>\n",
       "      <td>2</td>\n",
       "      <td>1</td>\n",
       "      <td>1</td>\n",
       "      <td>Cumings, Mrs. John Bradley (Florence Briggs Th...</td>\n",
       "      <td>female</td>\n",
       "      <td>38.0</td>\n",
       "      <td>1</td>\n",
       "      <td>0</td>\n",
       "      <td>PC 17599</td>\n",
       "      <td>71.2833</td>\n",
       "      <td>C</td>\n",
       "    </tr>\n",
       "    <tr>\n",
       "      <td>2</td>\n",
       "      <td>3</td>\n",
       "      <td>1</td>\n",
       "      <td>3</td>\n",
       "      <td>Heikkinen, Miss. Laina</td>\n",
       "      <td>female</td>\n",
       "      <td>26.0</td>\n",
       "      <td>0</td>\n",
       "      <td>0</td>\n",
       "      <td>STON/O2. 3101282</td>\n",
       "      <td>7.9250</td>\n",
       "      <td>S</td>\n",
       "    </tr>\n",
       "  </tbody>\n",
       "</table>\n",
       "</div>"
      ],
      "text/plain": [
       "   PassengerId  Survived  Pclass  \\\n",
       "0            1         0       3   \n",
       "1            2         1       1   \n",
       "2            3         1       3   \n",
       "\n",
       "                                                Name     Sex   Age  SibSp  \\\n",
       "0                            Braund, Mr. Owen Harris    male  22.0      1   \n",
       "1  Cumings, Mrs. John Bradley (Florence Briggs Th...  female  38.0      1   \n",
       "2                             Heikkinen, Miss. Laina  female  26.0      0   \n",
       "\n",
       "   Parch            Ticket     Fare Embarked  \n",
       "0      0         A/5 21171   7.2500        S  \n",
       "1      0          PC 17599  71.2833        C  \n",
       "2      0  STON/O2. 3101282   7.9250        S  "
      ]
     },
     "execution_count": 5,
     "metadata": {},
     "output_type": "execute_result"
    }
   ],
   "source": [
    "# Age\n",
    "train_1['Age'].fillna(train['Age'].mean(skipna=True), inplace=True)\n",
    "test_1['Age'].fillna(train['Age'].mean(skipna=True), inplace=True)\n",
    "# Fare: 只有test存在缺失值\n",
    "test_1['Fare'].fillna(train['Fare'].median(skipna=True), inplace=True)\n",
    "# Embarked: 只有train存在缺失值\n",
    "train_1['Embarked'].fillna('S', inplace=True)\n",
    "print(train_1['Embarked'].value_counts())\n",
    "# Cabin: 直接删掉\n",
    "train_1.drop(['Cabin'], axis=1, inplace=True)\n",
    "test_1.drop(['Cabin'], axis=1, inplace=True)\n",
    "\n",
    "train_1.head(3)"
   ]
  },
  {
   "cell_type": "markdown",
   "metadata": {},
   "source": [
    "###### 2 特征工程之特征构造\n",
    "初步构造两个特征：IsAlone/NameTitle"
   ]
  },
  {
   "cell_type": "code",
   "execution_count": 6,
   "metadata": {},
   "outputs": [],
   "source": [
    "# 1、先构造IsAlone\n",
    "train_1['IsAlone'] = np.where(train_1['SibSp']+train_1['Parch']>0, 0, 1)\n",
    "test_1['IsAlone'] = np.where(test_1['SibSp']+test_1['Parch']>0, 0, 1)\n",
    "\n",
    "# 2、构造NameTitle：表示Name里面的头衔Mr, Mrs等\n",
    "def GetNameTitle(name):\n",
    "    rst = re.compile('.*?, (.*?). .*?').findall(name)\n",
    "    if len(rst)==0:\n",
    "        return ''\n",
    "    return rst[0]\n",
    "train_1['NameTitle'] = train_1['Name'].apply(GetNameTitle)\n",
    "test_1['NameTitle'] = test_1['Name'].apply(GetNameTitle)\n"
   ]
  },
  {
   "cell_type": "markdown",
   "metadata": {},
   "source": [
    "###### 3 建模前最后的数据清洗"
   ]
  },
  {
   "cell_type": "code",
   "execution_count": 7,
   "metadata": {},
   "outputs": [
    {
     "name": "stdout",
     "output_type": "stream",
     "text": [
      "   PassengerId  Survived  Pclass  \\\n",
      "0            1         0       3   \n",
      "1            2         1       1   \n",
      "2            3         1       3   \n",
      "\n",
      "                                                Name     Sex   Age  SibSp  \\\n",
      "0                            Braund, Mr. Owen Harris    male  22.0      1   \n",
      "1  Cumings, Mrs. John Bradley (Florence Briggs Th...  female  38.0      1   \n",
      "2                             Heikkinen, Miss. Laina  female  26.0      0   \n",
      "\n",
      "   Parch            Ticket     Fare Embarked  IsAlone NameTitle  \n",
      "0      0         A/5 21171   7.2500        S        0        Mr  \n",
      "1      0          PC 17599  71.2833        C        0       Mrs  \n",
      "2      0  STON/O2. 3101282   7.9250        S        1      Miss  \n"
     ]
    }
   ],
   "source": [
    "print(train_1.head(3))\n",
    "# 最后进行删除，以便删除全部不需要的列\n",
    "train_1['Sex'] = train_1['Sex'].map({'male':1, 'female':0}).apply(int)\n",
    "test_1['Sex'] = test_1['Sex'].map({'male':1, 'female':0}).apply(int)\n",
    "\n",
    "train_1['Embarked'] = train_1['Embarked'].map({'C':1, 'Q':2, 'S':3}).apply(int)\n",
    "test_1['Embarked'] = test_1['Embarked'].map({'C':1, 'Q':2, 'S':3}).apply(int)\n",
    "\n",
    "dict_NameTitle = {'Mr':1, 'Miss':2, 'Mrs':3, 'Master':4, \n",
    "                  'Mlle': 2, 'Ms':2,\n",
    "                  'Mme':3,\n",
    "                  'Dr':5, 'Rev':5, 'Col':5, 'Major':5, 'Capt':5, 'Don':5, 'th':5, 'Lady':5, 'Sir':5, \n",
    "                  'Jonkheer':5, 'Dona':5\n",
    "                 }\n",
    "train_1['NameTitle'] = train_1['NameTitle'].map(dict_NameTitle).apply(int)\n",
    "test_1['NameTitle'] = test_1['NameTitle'].map(dict_NameTitle).apply(int)\n",
    "\n",
    "\n",
    "drop_lst = ['PassengerId', 'Name', 'SibSp', 'Parch', 'Ticket']\n",
    "train_1.drop(drop_lst, axis=1, inplace=True)\n",
    "test_1.drop(drop_lst, axis=1, inplace=True)"
   ]
  },
  {
   "cell_type": "markdown",
   "metadata": {},
   "source": [
    "###### 4 查看不同特征对Survived的影响(低级的变量筛选)"
   ]
  },
  {
   "cell_type": "code",
   "execution_count": 8,
   "metadata": {},
   "outputs": [
    {
     "data": {
      "image/png": "[encoded data removed]",
      "text/plain": [
       "<Figure size 1080x576 with 5 Axes>"
      ]
     },
     "metadata": {
      "needs_background": "light"
     },
     "output_type": "display_data"
    },
    {
     "data": {
      "image/png": "[encoded data removed]",
      "text/plain": [
       "<Figure size 864x360 with 2 Axes>"
      ]
     },
     "metadata": {
      "needs_background": "light"
     },
     "output_type": "display_data"
    }
   ],
   "source": [
    "# 对类别型变量\n",
    "plt.figure(figsize=(15,8))\n",
    "class_lst = ['Pclass', 'Sex', 'Embarked', 'IsAlone', 'NameTitle']\n",
    "for i, column in enumerate(class_lst):\n",
    "    plt.subplot(2,3,i+1)\n",
    "    sns.barplot(column, 'Survived', data=train_1)\n",
    "plt.show()\n",
    "\n",
    "# 对连续型变量\n",
    "plt.figure(figsize=(12,5))\n",
    "for i, column in enumerate(['Age', 'Fare']):\n",
    "    plt.subplot(1,2,i+1)\n",
    "    sns.kdeplot(train_1[column][train_1['Survived']==1], shade=True)\n",
    "    sns.kdeplot(train_1[column][train_1['Survived']==0], shade=True)\n",
    "    plt.legend(['Survived=1', 'Survived=0'])\n",
    "    plt.title('Density plot of {} for Survived=1 and Survived=0'.format(column))\n",
    "plt.show()"
   ]
  },
  {
   "cell_type": "markdown",
   "metadata": {},
   "source": [
    "分析认为，类别型变量间对Survived都具有显著差异；而连续型变量也存在较大的差异，所以用这些特征来建立模型。"
   ]
  },
  {
   "cell_type": "markdown",
   "metadata": {},
   "source": [
    "###### 5 建立模型"
   ]
  },
  {
   "cell_type": "code",
   "execution_count": 9,
   "metadata": {},
   "outputs": [],
   "source": [
    "x_train, x_test, y_train, y_test = train_test_split(train_1.loc[:, train_1.columns!='Survived'], train_1['Survived'], random_state=2019)"
   ]
  },
  {
   "cell_type": "code",
   "execution_count": 10,
   "metadata": {},
   "outputs": [
    {
     "name": "stdout",
     "output_type": "stream",
     "text": [
      "rf's accuracy is 0.8654708520179372\n",
      "et's accuracy is 0.852017937219731\n",
      "gb's accuracy is 0.8026905829596412\n",
      "ada's accuracy is 0.8251121076233184\n",
      "svc's accuracy is 0.6995515695067265\n",
      "xgb's accuracy is 0.8475336322869955\n"
     ]
    }
   ],
   "source": [
    "\n",
    "rf = RandomForestClassifier(n_estimators=100, criterion='gini', max_depth=6, min_samples_split=2,\n",
    "                            min_samples_leaf=2, n_jobs=2, max_features='sqrt', random_state=2019)\n",
    "rf.fit(x_train, y_train)\n",
    "rf_pred = rf.predict(x_test)\n",
    "print(\"rf's accuracy is\", accuracy_score(y_test, rf_pred))\n",
    "\n",
    "et = ExtraTreesClassifier(n_estimators=100, criterion='gini', max_depth=6, min_samples_split=2,\n",
    "                            min_samples_leaf=2, n_jobs=2, max_features='sqrt', random_state=2019)\n",
    "et.fit(x_train, y_train)\n",
    "et_pred = et.predict(x_test)\n",
    "print(\"et's accuracy is\", accuracy_score(y_test, et_pred))\n",
    "\n",
    "gb = GradientBoostingClassifier(n_estimators=99, max_depth=6, min_samples_leaf=2, random_state=2019)\n",
    "gb.fit(x_train, y_train)\n",
    "gb_pred = gb.predict(x_test)\n",
    "print(\"gb's accuracy is\", accuracy_score(y_test, gb_pred))\n",
    "\n",
    "ada = AdaBoostClassifier(n_estimators=100, learning_rate=0.75, random_state=2019)\n",
    "ada.fit(x_train, y_train)\n",
    "ada_pred = ada.predict(x_test)\n",
    "print(\"ada's accuracy is\", accuracy_score(y_test, ada_pred))\n",
    "\n",
    "svc = SVC(C=0.5, kernel='rbf', random_state=2019)\n",
    "svc.fit(x_train, y_train)\n",
    "svc_pred = svc.predict(x_test)\n",
    "print(\"svc's accuracy is\", accuracy_score(y_test, svc_pred))\n",
    "## poly核运行非常非常慢，根电脑卡了似的 ##\n",
    "\n",
    "xgb_class = xgb.XGBClassifier(max_depth=6, learning_rate=0.01)\n",
    "xgb_class.fit(x_train, y_train)\n",
    "xgb_pred = xgb_class.predict(x_test)\n",
    "print(\"xgb's accuracy is\", accuracy_score(y_test, xgb_pred))"
   ]
  },
  {
   "cell_type": "code",
   "execution_count": 11,
   "metadata": {},
   "outputs": [
    {
     "name": "stdout",
     "output_type": "stream",
     "text": [
      "stacking's accuracy is 0.8026905829596412\n"
     ]
    }
   ],
   "source": [
    "xgb_class2 = xgb.XGBClassifier(max_depth=6, learning_rate=0.01)\n",
    "stackingC = StackingClassifier(classifiers=[rf, et, gb, ada, svc], \n",
    "                               use_probas=False, average_probas=True, meta_classifier=xgb_class)\n",
    "stackingC.fit(x_train, y_train)\n",
    "stackingC_pred = stackingC.predict(x_test)\n",
    "print(\"stacking's accuracy is\", accuracy_score(y_test, stackingC_pred))"
   ]
  },
  {
   "cell_type": "markdown",
   "metadata": {},
   "source": [
    "比较发现，rf的效果是最好的，用xgb集成的模型效果不如rf。所以最终选择rf。"
   ]
  },
  {
   "cell_type": "code",
   "execution_count": 16,
   "metadata": {},
   "outputs": [],
   "source": [
    "test_pred = rf.predict(test_1)"
   ]
  },
  {
   "cell_type": "code",
   "execution_count": 17,
   "metadata": {},
   "outputs": [],
   "source": [
    "PassengerId = test['PassengerId']\n",
    "submission = pd.DataFrame({'PassengerId': PassengerId, 'Survived':test_pred})\n",
    "submission.to_csv('mySubmission.csv', index=False)"
   ]
  },
  {
   "cell_type": "code",
   "execution_count": null,
   "metadata": {},
   "outputs": [],
   "source": []
  }
 ],
 "metadata": {
  "kernelspec": {
   "display_name": "Python 3",
   "language": "python",
   "name": "python3"
  },
  "language_info": {
   "codemirror_mode": {
    "name": "ipython",
    "version": 3
   },
   "file_extension": ".py",
   "mimetype": "text/x-python",
   "name": "python",
   "nbconvert_exporter": "python",
   "pygments_lexer": "ipython3",
   "version": "3.6.4"
  }
 },
 "nbformat": 4,
 "nbformat_minor": 2
}
